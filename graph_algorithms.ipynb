{
 "cells": [
  {
   "cell_type": "markdown",
   "metadata": {},
   "source": [
    "# Importing Libraries\n",
    "***"
   ]
  },
  {
   "cell_type": "code",
   "execution_count": 1,
   "metadata": {},
   "outputs": [
    {
     "name": "stderr",
     "output_type": "stream",
     "text": [
      "C:\\Users\\odyky\\AppData\\Local\\Temp\\ipykernel_17608\\3505887652.py:3: DeprecationWarning: The module 'neo4j.data' was made internal and will no longer be available for import in future versions. `neo4j.data.Record` should be imported directly from `neo4j`.\n",
      "  from neo4j.data import Record\n"
     ]
    }
   ],
   "source": [
    "from neo4j import GraphDatabase\n",
    "from neo4j.graph import Node, Relationship\n",
    "from neo4j.data import Record\n",
    "from neo4j import unit_of_work\n",
    "from pandas import DataFrame\n",
    "import pandas as pd\n",
    "import numpy as np\n"
   ]
  },
  {
   "cell_type": "markdown",
   "metadata": {},
   "source": [
    "# Connecting to Neo4j\n",
    "***"
   ]
  },
  {
   "cell_type": "code",
   "execution_count": 3,
   "metadata": {},
   "outputs": [],
   "source": [
    "from neo4j import GraphDatabase\n",
    "\n",
    "driver = GraphDatabase.driver(\"bolt://localhost:7687\", auth=(\"neo4j\", \"123123123\"))"
   ]
  },
  {
   "cell_type": "markdown",
   "metadata": {},
   "source": [
    "# Deffining Useful Functions\n",
    "***"
   ]
  },
  {
   "cell_type": "code",
   "execution_count": 2,
   "metadata": {},
   "outputs": [],
   "source": [
    "def run_query(query): \n",
    "     with driver.session() as session:\n",
    "        result = session.run(query)\n",
    "        #print(result.single()[0])\n",
    "        \n",
    "        \n",
    "def delete_all_nodes():\n",
    "    query = '''\n",
    "    MATCH(n) DETACH DELETE(n)\n",
    "    '''\n",
    "    run_query(query)\n",
    "\n",
    "def record_count():\n",
    "    with driver.session() as session:\n",
    "        result = session.run(\"MATCH (n) RETURN count(n) LIMIT 100\")\n",
    "        print(result.single())\n",
    "\n",
    "def delete_nodes(var):\n",
    "    query = f'''\n",
    "    MATCH (c:{var})\n",
    "    DELETE c\n",
    "\n",
    "    '''\n",
    "    run_query(query)"
   ]
  },
  {
   "attachments": {},
   "cell_type": "markdown",
   "metadata": {},
   "source": [
    "***\n",
    "# Graph Algorithms"
   ]
  },
  {
   "attachments": {},
   "cell_type": "markdown",
   "metadata": {},
   "source": [
    "## Algorithm No. 1 - Path Finding Algorithms: Dijkstras shortest path"
   ]
  },
  {
   "attachments": {},
   "cell_type": "markdown",
   "metadata": {},
   "source": [
    "### Calculating the shortest path between two Papers in terms of citations"
   ]
  },
  {
   "attachments": {},
   "cell_type": "markdown",
   "metadata": {},
   "source": [
    "### Creating the projection for Dijkstras shortest path algorithm with gds library"
   ]
  },
  {
   "cell_type": "code",
   "execution_count": 7,
   "metadata": {},
   "outputs": [],
   "source": [
    "query = '''CALL gds.graph.project.cypher(\n",
    "  'paper_cites',\n",
    "  'MATCH (p:Paper) RETURN id(p) AS id',\n",
    "  'MATCH (p:Paper)-[c:cites]->(p2:Paper) RETURN id(p) AS source, id(p2) AS target, type(c) as type')'''\n",
    "\n",
    "run_query(query)"
   ]
  },
  {
   "attachments": {},
   "cell_type": "markdown",
   "metadata": {},
   "source": [
    "### Executing Dijkstras shortest path algorithm from gds library\n",
    "#### Papers *Undirected graphs of entanglement 2* and *Fingerprint recognition based on minutes groups using directing attention algorithms* are being used"
   ]
  },
  {
   "cell_type": "code",
   "execution_count": 8,
   "metadata": {},
   "outputs": [
    {
     "data": {
      "text/html": [
       "<div>\n",
       "<style scoped>\n",
       "    .dataframe tbody tr th:only-of-type {\n",
       "        vertical-align: middle;\n",
       "    }\n",
       "\n",
       "    .dataframe tbody tr th {\n",
       "        vertical-align: top;\n",
       "    }\n",
       "\n",
       "    .dataframe thead th {\n",
       "        text-align: right;\n",
       "    }\n",
       "</style>\n",
       "<table border=\"1\" class=\"dataframe\">\n",
       "  <thead>\n",
       "    <tr style=\"text-align: right;\">\n",
       "      <th></th>\n",
       "      <th>SourceNode</th>\n",
       "      <th>TargetNode</th>\n",
       "      <th>Cost</th>\n",
       "    </tr>\n",
       "  </thead>\n",
       "  <tbody>\n",
       "    <tr>\n",
       "      <th>0</th>\n",
       "      <td>Undirected graphs of entanglement 2</td>\n",
       "      <td>Fingerprint recognition based on minutes group...</td>\n",
       "      <td>5.0</td>\n",
       "    </tr>\n",
       "  </tbody>\n",
       "</table>\n",
       "</div>"
      ],
      "text/plain": [
       "                            SourceNode  \\\n",
       "0  Undirected graphs of entanglement 2   \n",
       "\n",
       "                                          TargetNode  Cost  \n",
       "0  Fingerprint recognition based on minutes group...   5.0  "
      ]
     },
     "execution_count": 8,
     "metadata": {},
     "output_type": "execute_result"
    }
   ],
   "source": [
    "title1 = 'Undirected graphs of entanglement 2'\n",
    "title2 = 'Fingerprint recognition based on minutes groups using directing attention algorithms'\n",
    "\n",
    "\n",
    "with driver.session() as session:\n",
    "    result = session.run('''\n",
    "    MATCH (p:Paper {title: $titol1})\n",
    "    WITH id(p) as id_P, p\n",
    "    MATCH (p2:Paper {title: $titol2})\n",
    "    WITH id(p) as id_P, p, id(p2) as id_P2, p2\n",
    "\n",
    "    CALL gds.allShortestPaths.dijkstra.stream('paper_cites', {\n",
    "        sourceNode: p\n",
    "    })\n",
    "\n",
    "    YIELD sourceNode, targetNode, totalCost\n",
    "    WHERE targetNode = id_P2\n",
    "    RETURN gds.util.asNode(sourceNode).title as sourceNode, gds.util.asNode(targetNode).title as targetNode, totalCost\n",
    "    ''', titol1 = title1, titol2 = title2)\n",
    "\n",
    "    res = []\n",
    "    for record in result:\n",
    "        source_node = record['sourceNode']\n",
    "        target_node = record['targetNode']\n",
    "        cost = record['totalCost']\n",
    "\n",
    "        res.append({'SourceNode': source_node, 'TargetNode': target_node, \"Cost\": cost})\n",
    "        df = pd.DataFrame.from_records(res)\n",
    "\n",
    "df"
   ]
  },
  {
   "attachments": {},
   "cell_type": "markdown",
   "metadata": {},
   "source": [
    "## Algorithm No. 2 - Similarity Algorithms: Node similarity"
   ]
  },
  {
   "attachments": {},
   "cell_type": "markdown",
   "metadata": {},
   "source": [
    "### Calculate similarity between Papers based on their shared keywords"
   ]
  },
  {
   "attachments": {},
   "cell_type": "markdown",
   "metadata": {},
   "source": [
    "### Creating the projection for Node similarity algorithm with gds library"
   ]
  },
  {
   "cell_type": "code",
   "execution_count": 5,
   "metadata": {},
   "outputs": [],
   "source": [
    "query = '''CALL gds.graph.project.cypher(\n",
    "  'papers_and_keywords',\n",
    "  'MATCH (a) WHERE a:Paper OR a:Keyword RETURN id(a) AS id, labels(a) AS labels',\n",
    "  'MATCH (a:Paper)-[r:has_keyword]->(k: Keyword) RETURN id(a) AS source, id(k) AS target, type(r) as type')\n",
    "  YIELD\n",
    "  graphName AS graph, nodeQuery, nodeCount AS nodes, relationshipCount AS rels'''\n",
    "\n",
    "run_query(query)"
   ]
  },
  {
   "attachments": {},
   "cell_type": "markdown",
   "metadata": {},
   "source": [
    "### Executing Node similarity algorithm from gds library"
   ]
  },
  {
   "cell_type": "code",
   "execution_count": 6,
   "metadata": {},
   "outputs": [
    {
     "data": {
      "text/html": [
       "<div>\n",
       "<style scoped>\n",
       "    .dataframe tbody tr th:only-of-type {\n",
       "        vertical-align: middle;\n",
       "    }\n",
       "\n",
       "    .dataframe tbody tr th {\n",
       "        vertical-align: top;\n",
       "    }\n",
       "\n",
       "    .dataframe thead th {\n",
       "        text-align: right;\n",
       "    }\n",
       "</style>\n",
       "<table border=\"1\" class=\"dataframe\">\n",
       "  <thead>\n",
       "    <tr style=\"text-align: right;\">\n",
       "      <th></th>\n",
       "      <th>SourceNode</th>\n",
       "      <th>TargetNode</th>\n",
       "      <th>Similarity</th>\n",
       "    </tr>\n",
       "  </thead>\n",
       "  <tbody>\n",
       "    <tr>\n",
       "      <th>0</th>\n",
       "      <td>A new index of creditworthiness for retail cre...</td>\n",
       "      <td>Testing schedule performance and reliability f...</td>\n",
       "      <td>1.000000</td>\n",
       "    </tr>\n",
       "    <tr>\n",
       "      <th>1</th>\n",
       "      <td>Testing schedule performance and reliability f...</td>\n",
       "      <td>A new index of creditworthiness for retail cre...</td>\n",
       "      <td>1.000000</td>\n",
       "    </tr>\n",
       "    <tr>\n",
       "      <th>2</th>\n",
       "      <td>A new index of creditworthiness for retail cre...</td>\n",
       "      <td>Optimal policies for inventory usage, producti...</td>\n",
       "      <td>0.944444</td>\n",
       "    </tr>\n",
       "    <tr>\n",
       "      <th>3</th>\n",
       "      <td>Optimal policies for inventory usage, producti...</td>\n",
       "      <td>A new index of creditworthiness for retail cre...</td>\n",
       "      <td>0.944444</td>\n",
       "    </tr>\n",
       "    <tr>\n",
       "      <th>4</th>\n",
       "      <td>Optimal policies for inventory usage, producti...</td>\n",
       "      <td>Testing schedule performance and reliability f...</td>\n",
       "      <td>0.944444</td>\n",
       "    </tr>\n",
       "    <tr>\n",
       "      <th>5</th>\n",
       "      <td>Testing schedule performance and reliability f...</td>\n",
       "      <td>Optimal policies for inventory usage, producti...</td>\n",
       "      <td>0.944444</td>\n",
       "    </tr>\n",
       "    <tr>\n",
       "      <th>6</th>\n",
       "      <td>Ciruvis: a web-based tool for rule networks an...</td>\n",
       "      <td>MetRxn: a knowledgebase of metabolites and rea...</td>\n",
       "      <td>0.666667</td>\n",
       "    </tr>\n",
       "    <tr>\n",
       "      <th>7</th>\n",
       "      <td>MetRxn: a knowledgebase of metabolites and rea...</td>\n",
       "      <td>Ciruvis: a web-based tool for rule networks an...</td>\n",
       "      <td>0.666667</td>\n",
       "    </tr>\n",
       "    <tr>\n",
       "      <th>8</th>\n",
       "      <td>Massive MIMO Multicasting in Noncooperative Ce...</td>\n",
       "      <td>Massive MIMO With Joint Power Control</td>\n",
       "      <td>0.555556</td>\n",
       "    </tr>\n",
       "    <tr>\n",
       "      <th>9</th>\n",
       "      <td>Massive MIMO With Joint Power Control</td>\n",
       "      <td>Massive MIMO Multicasting in Noncooperative Ce...</td>\n",
       "      <td>0.555556</td>\n",
       "    </tr>\n",
       "    <tr>\n",
       "      <th>10</th>\n",
       "      <td>CUSUM-based intrusion detection mechanism for ...</td>\n",
       "      <td>Structural health monitoring by using a sparse...</td>\n",
       "      <td>0.500000</td>\n",
       "    </tr>\n",
       "    <tr>\n",
       "      <th>11</th>\n",
       "      <td>Structural health monitoring by using a sparse...</td>\n",
       "      <td>CUSUM-based intrusion detection mechanism for ...</td>\n",
       "      <td>0.500000</td>\n",
       "    </tr>\n",
       "  </tbody>\n",
       "</table>\n",
       "</div>"
      ],
      "text/plain": [
       "                                           SourceNode  \\\n",
       "0   A new index of creditworthiness for retail cre...   \n",
       "1   Testing schedule performance and reliability f...   \n",
       "2   A new index of creditworthiness for retail cre...   \n",
       "3   Optimal policies for inventory usage, producti...   \n",
       "4   Optimal policies for inventory usage, producti...   \n",
       "5   Testing schedule performance and reliability f...   \n",
       "6   Ciruvis: a web-based tool for rule networks an...   \n",
       "7   MetRxn: a knowledgebase of metabolites and rea...   \n",
       "8   Massive MIMO Multicasting in Noncooperative Ce...   \n",
       "9               Massive MIMO With Joint Power Control   \n",
       "10  CUSUM-based intrusion detection mechanism for ...   \n",
       "11  Structural health monitoring by using a sparse...   \n",
       "\n",
       "                                           TargetNode  Similarity  \n",
       "0   Testing schedule performance and reliability f...    1.000000  \n",
       "1   A new index of creditworthiness for retail cre...    1.000000  \n",
       "2   Optimal policies for inventory usage, producti...    0.944444  \n",
       "3   A new index of creditworthiness for retail cre...    0.944444  \n",
       "4   Testing schedule performance and reliability f...    0.944444  \n",
       "5   Optimal policies for inventory usage, producti...    0.944444  \n",
       "6   MetRxn: a knowledgebase of metabolites and rea...    0.666667  \n",
       "7   Ciruvis: a web-based tool for rule networks an...    0.666667  \n",
       "8               Massive MIMO With Joint Power Control    0.555556  \n",
       "9   Massive MIMO Multicasting in Noncooperative Ce...    0.555556  \n",
       "10  Structural health monitoring by using a sparse...    0.500000  \n",
       "11  CUSUM-based intrusion detection mechanism for ...    0.500000  "
      ]
     },
     "execution_count": 6,
     "metadata": {},
     "output_type": "execute_result"
    }
   ],
   "source": [
    "with driver.session() as session:\n",
    "    result = session.run('''\n",
    "    CALL gds.nodeSimilarity.stream('papers_and_keywords', { degreeCutoff: 5, similarityCutoff: 0.5})\n",
    "    YIELD node1, node2, similarity\n",
    "    RETURN gds.util.asNode(node1).title AS Paper1, gds.util.asNode(node2).title AS Paper2, similarity\n",
    "    ORDER BY similarity DESCENDING, Paper1, Paper2\n",
    "    ''')\n",
    "\n",
    "    res = []\n",
    "    for record in result:\n",
    "        source_node = record['Paper1']\n",
    "        target_node = record['Paper2']\n",
    "        similarity = record['similarity']\n",
    "\n",
    "        res.append({'SourceNode': source_node, 'TargetNode': target_node, \"Similarity\": similarity})\n",
    "        df = pd.DataFrame.from_records(res)\n",
    "\n",
    "df"
   ]
  }
 ],
 "metadata": {
  "kernelspec": {
   "display_name": "venv",
   "language": "python",
   "name": "python3"
  },
  "language_info": {
   "codemirror_mode": {
    "name": "ipython",
    "version": 3
   },
   "file_extension": ".py",
   "mimetype": "text/x-python",
   "name": "python",
   "nbconvert_exporter": "python",
   "pygments_lexer": "ipython3",
   "version": "3.10.7"
  },
  "orig_nbformat": 4
 },
 "nbformat": 4,
 "nbformat_minor": 2
}
